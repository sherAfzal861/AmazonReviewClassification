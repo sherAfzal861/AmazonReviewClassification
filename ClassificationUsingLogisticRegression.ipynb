{
 "cells": [
  {
   "cell_type": "code",
   "execution_count": 1,
   "id": "abe04b78",
   "metadata": {
    "execution": {
     "iopub.execute_input": "2021-07-24T15:47:35.683249Z",
     "iopub.status.busy": "2021-07-24T15:47:35.682143Z",
     "iopub.status.idle": "2021-07-24T15:47:42.007626Z",
     "shell.execute_reply": "2021-07-24T15:47:42.006930Z",
     "shell.execute_reply.started": "2021-07-24T14:50:16.418985Z"
    },
    "papermill": {
     "duration": 6.341433,
     "end_time": "2021-07-24T15:47:42.007775",
     "exception": false,
     "start_time": "2021-07-24T15:47:35.666342",
     "status": "completed"
    },
    "tags": []
   },
   "outputs": [],
   "source": [
    "# Open the files with specified encoding\n",
    "with open('dataset/test.ft.txt/test.ft.txt', 'r', encoding='utf-8') as f1, \\\n",
    "     open('dataset/train.ft.txt/train.ft.txt', 'r', encoding='utf-8') as f2:\n",
    "    test = f1.readlines()\n",
    "    train = f2.readlines()\n"
   ]
  },
  {
   "cell_type": "code",
   "execution_count": 2,
   "id": "4f35368f",
   "metadata": {
    "execution": {
     "iopub.execute_input": "2021-07-24T15:47:42.043522Z",
     "iopub.status.busy": "2021-07-24T15:47:42.042547Z",
     "iopub.status.idle": "2021-07-24T15:47:42.046182Z",
     "shell.execute_reply": "2021-07-24T15:47:42.045414Z",
     "shell.execute_reply.started": "2021-07-24T15:08:26.698554Z"
    },
    "papermill": {
     "duration": 0.023632,
     "end_time": "2021-07-24T15:47:42.046348",
     "exception": false,
     "start_time": "2021-07-24T15:47:42.022716",
     "status": "completed"
    },
    "tags": []
   },
   "outputs": [],
   "source": [
    "import random"
   ]
  },
  {
   "cell_type": "code",
   "execution_count": 3,
   "id": "9ea3338e",
   "metadata": {
    "execution": {
     "iopub.execute_input": "2021-07-24T15:47:42.091100Z",
     "iopub.status.busy": "2021-07-24T15:47:42.090055Z",
     "iopub.status.idle": "2021-07-24T15:47:43.054212Z",
     "shell.execute_reply": "2021-07-24T15:47:43.054830Z",
     "shell.execute_reply.started": "2021-07-24T15:09:29.67591Z"
    },
    "papermill": {
     "duration": 0.983219,
     "end_time": "2021-07-24T15:47:43.055051",
     "exception": false,
     "start_time": "2021-07-24T15:47:42.071832",
     "status": "completed"
    },
    "tags": []
   },
   "outputs": [],
   "source": [
    "train_10000 = random.choices(train, k=1000000)\n",
    "test_10000 = random.choices(test,k=100000)"
   ]
  },
  {
   "cell_type": "code",
   "execution_count": null,
   "id": "8b6d4eef",
   "metadata": {},
   "outputs": [],
   "source": []
  },
  {
   "cell_type": "code",
   "execution_count": 5,
   "id": "c487d2ab",
   "metadata": {
    "execution": {
     "iopub.execute_input": "2021-07-24T15:47:43.108473Z",
     "iopub.status.busy": "2021-07-24T15:47:43.092854Z",
     "iopub.status.idle": "2021-07-24T15:47:49.485348Z",
     "shell.execute_reply": "2021-07-24T15:47:49.482541Z",
     "shell.execute_reply.started": "2021-07-24T15:12:13.340879Z"
    },
    "papermill": {
     "duration": 6.419043,
     "end_time": "2021-07-24T15:47:49.486174",
     "exception": false,
     "start_time": "2021-07-24T15:47:43.067131",
     "status": "completed"
    },
    "tags": []
   },
   "outputs": [],
   "source": [
    "train_X, train_y = [], []\n",
    "space_index = 10\n",
    "for line in train_10000:\n",
    "    train_X.append(line[space_index+1:])\n",
    "    train_y.append(line[:space_index])\n",
    "    \n",
    "test_X, test_y = [], []\n",
    "for line in train_10000:\n",
    "    test_X.append(line[space_index+1:])\n",
    "    test_y.append(line[:space_index])"
   ]
  },
  {
   "cell_type": "code",
   "execution_count": 6,
   "id": "c0835a87",
   "metadata": {
    "execution": {
     "iopub.execute_input": "2021-07-24T15:47:49.530468Z",
     "iopub.status.busy": "2021-07-24T15:47:49.529389Z",
     "iopub.status.idle": "2021-07-24T15:51:16.214443Z",
     "shell.execute_reply": "2021-07-24T15:51:16.213614Z",
     "shell.execute_reply.started": "2021-07-24T15:12:25.37094Z"
    },
    "papermill": {
     "duration": 206.7085,
     "end_time": "2021-07-24T15:51:16.214708",
     "exception": false,
     "start_time": "2021-07-24T15:47:49.506208",
     "status": "completed"
    },
    "tags": []
   },
   "outputs": [],
   "source": [
    "from sklearn.feature_extraction.text import TfidfVectorizer\n",
    "vectorizer = TfidfVectorizer()\n",
    "test_X = vectorizer.fit_transform(test_X)\n",
    "train_X = vectorizer.transform(train_X)"
   ]
  },
  {
   "cell_type": "code",
   "execution_count": 7,
   "id": "f16a0626",
   "metadata": {
    "execution": {
     "iopub.execute_input": "2021-07-24T15:51:16.242938Z",
     "iopub.status.busy": "2021-07-24T15:51:16.242292Z",
     "iopub.status.idle": "2021-07-24T15:51:16.363040Z",
     "shell.execute_reply": "2021-07-24T15:51:16.362325Z",
     "shell.execute_reply.started": "2021-07-24T15:06:37.887428Z"
    },
    "papermill": {
     "duration": 0.136517,
     "end_time": "2021-07-24T15:51:16.363180",
     "exception": false,
     "start_time": "2021-07-24T15:51:16.226663",
     "status": "completed"
    },
    "tags": []
   },
   "outputs": [],
   "source": [
    "from sklearn.linear_model import LogisticRegression"
   ]
  },
  {
   "cell_type": "code",
   "execution_count": 8,
   "id": "6d10c690",
   "metadata": {
    "execution": {
     "iopub.execute_input": "2021-07-24T15:51:16.390387Z",
     "iopub.status.busy": "2021-07-24T15:51:16.389699Z",
     "iopub.status.idle": "2021-07-24T15:52:31.515565Z",
     "shell.execute_reply": "2021-07-24T15:52:31.516290Z",
     "shell.execute_reply.started": "2021-07-24T15:23:14.301906Z"
    },
    "papermill": {
     "duration": 75.14253,
     "end_time": "2021-07-24T15:52:31.516528",
     "exception": false,
     "start_time": "2021-07-24T15:51:16.373998",
     "status": "completed"
    },
    "tags": []
   },
   "outputs": [],
   "source": [
    "clf = LogisticRegression(solver='liblinear')\n",
    "clf.fit(train_X, train_y)\n",
    "preds = clf.predict(test_X)"
   ]
  },
  {
   "cell_type": "code",
   "execution_count": 9,
   "id": "720b1f3c",
   "metadata": {
    "execution": {
     "iopub.execute_input": "2021-07-24T15:52:31.541649Z",
     "iopub.status.busy": "2021-07-24T15:52:31.541027Z",
     "iopub.status.idle": "2021-07-24T15:52:39.231155Z",
     "shell.execute_reply": "2021-07-24T15:52:39.231673Z",
     "shell.execute_reply.started": "2021-07-24T15:25:59.103811Z"
    },
    "papermill": {
     "duration": 7.704182,
     "end_time": "2021-07-24T15:52:39.231853",
     "exception": false,
     "start_time": "2021-07-24T15:52:31.527671",
     "status": "completed"
    },
    "tags": []
   },
   "outputs": [
    {
     "name": "stdout",
     "output_type": "stream",
     "text": [
      "0.92129\n",
      "(array([0.92181989, 0.92076344]), array([0.92038694, 0.92219018]), array([0.92110286, 0.92147626]), array([499202, 500798], dtype=int64))\n"
     ]
    }
   ],
   "source": [
    "from sklearn.metrics import accuracy_score, precision_recall_fscore_support\n",
    "print(accuracy_score(test_y, preds))\n",
    "print(precision_recall_fscore_support(test_y, preds))"
   ]
  }
 ],
 "metadata": {
  "kernelspec": {
   "display_name": "Python 3",
   "language": "python",
   "name": "python3"
  },
  "language_info": {
   "codemirror_mode": {
    "name": "ipython",
    "version": 3
   },
   "file_extension": ".py",
   "mimetype": "text/x-python",
   "name": "python",
   "nbconvert_exporter": "python",
   "pygments_lexer": "ipython3",
   "version": "3.11.5"
  },
  "papermill": {
   "default_parameters": {},
   "duration": 427.819282,
   "end_time": "2021-07-24T15:52:41.789488",
   "environment_variables": {},
   "exception": null,
   "input_path": "__notebook__.ipynb",
   "output_path": "__notebook__.ipynb",
   "parameters": {},
   "start_time": "2021-07-24T15:45:33.970206",
   "version": "2.3.3"
  }
 },
 "nbformat": 4,
 "nbformat_minor": 5
}
